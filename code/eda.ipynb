{
 "cells": [
  {
   "attachments": {},
   "cell_type": "markdown",
   "metadata": {},
   "source": [
    "Merging and Cleaning Datasets"
   ]
  },
  {
   "cell_type": "code",
   "execution_count": 3,
   "metadata": {},
   "outputs": [],
   "source": [
    "import pandas as pd\n",
    "\n",
    "movies = pd.read_csv('movies.csv')\n",
    "ratings = pd.read_csv('ratings.csv')\n",
    "\n",
    "# merge movies and ratings\n",
    "merged = pd.merge(ratings, movies, on='movieId')\n",
    "\n",
    "# separate genres into individual columns\n",
    "genres = merged['genres'].str.get_dummies('|')\n",
    "merged = pd.concat([merged, genres], axis=1)\n",
    "\n",
    "merged.drop(['genres',  '(no genres listed)'], axis=1, inplace=True)\n",
    "\n",
    "# convert rating to int\n",
    "merged['rating'] = merged['rating'].astype(int)\n",
    "\n",
    "# add reward column\n",
    "merged['reward'] = merged['rating'].apply(lambda x: 1 if x > 3 else 0)\n",
    "\n",
    "# shift reward column next to rating\n",
    "reward = merged.pop('reward')\n",
    "merged.insert(3, 'reward', reward)"
   ]
  }
 ],
 "metadata": {
  "kernelspec": {
   "display_name": "Python 3",
   "language": "python",
   "name": "python3"
  },
  "language_info": {
   "codemirror_mode": {
    "name": "ipython",
    "version": 3
   },
   "file_extension": ".py",
   "mimetype": "text/x-python",
   "name": "python",
   "nbconvert_exporter": "python",
   "pygments_lexer": "ipython3",
   "version": "3.8.10"
  },
  "orig_nbformat": 4
 },
 "nbformat": 4,
 "nbformat_minor": 2
}
