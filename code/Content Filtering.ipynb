{
 "cells": [
  {
   "cell_type": "code",
   "execution_count": 1,
   "metadata": {},
   "outputs": [],
   "source": [
    "import numpy as np\n",
    "import pandas as pd\n",
    "from sklearn.feature_extraction.text import TfidfVectorizer\n",
    "from sklearn.metrics.pairwise import cosine_similarity\n",
    "\n",
    "import warnings\n",
    "warnings.filterwarnings('ignore')\n",
    "pd.set_option('display.max_columns', None)"
   ]
  },
  {
   "cell_type": "code",
   "execution_count": 2,
   "metadata": {},
   "outputs": [],
   "source": [
    "movies = pd.read_csv('../data/movies.dat', sep='::', header=None, names=['movie_id', 'title', 'genres'], encoding='ISO-8859-1')\n",
    "ratings = pd.read_csv('../data/ratings.dat', sep='::', header=None, names=['user_id', 'movie_id', 'rating', 'timestamp'], encoding='ISO-8859-1')\n",
    "users = pd.read_csv('../data/users.dat', sep='::', header=None, names=['user_id', 'gender', 'age', 'occupation', 'zip_code'], encoding='ISO-8859-1')"
   ]
  },
  {
   "cell_type": "code",
   "execution_count": 3,
   "metadata": {},
   "outputs": [],
   "source": [
    "# Define the TfidfVectorizer\n",
    "tfidf = TfidfVectorizer(stop_words='english')"
   ]
  },
  {
   "cell_type": "code",
   "execution_count": 4,
   "metadata": {},
   "outputs": [],
   "source": [
    "# Fit and transform the genres column of the movies dataframe\n",
    "movies_genres_tfidf = tfidf.fit_transform(movies['genres'])"
   ]
  },
  {
   "cell_type": "code",
   "execution_count": 5,
   "metadata": {},
   "outputs": [],
   "source": [
    "# Compute the user preference vectors\n",
    "user_preferences = ratings[(ratings['user_id'] == 1) & (ratings['rating'] >= 4)]\n",
    "user_preferences = user_preferences.merge(movies, on='movie_id')\n",
    "user_preferences_genres_tfidf = tfidf.transform(user_preferences['genres'])\n",
    "user_preference_vector = user_preferences_genres_tfidf.sum(axis=0)"
   ]
  },
  {
   "cell_type": "code",
   "execution_count": 6,
   "metadata": {},
   "outputs": [],
   "source": [
    "# Convert the user preference vector to a numpy array\n",
    "user_preference_vector = np.array(user_preference_vector).reshape(-1)"
   ]
  },
  {
   "cell_type": "code",
   "execution_count": 7,
   "metadata": {},
   "outputs": [],
   "source": [
    "# Compute the cosine similarity between the user preference vector and the movie feature vectors\n",
    "similarity_scores = cosine_similarity(user_preference_vector.reshape(1, -1), movies_genres_tfidf)"
   ]
  },
  {
   "cell_type": "code",
   "execution_count": 8,
   "metadata": {},
   "outputs": [],
   "source": [
    "# Get the row indices of the top n movies with the highest similarity scores\n",
    "n = 10\n",
    "top_movie_indices = similarity_scores.argsort()[0][-n:][::-1]"
   ]
  },
  {
   "cell_type": "code",
   "execution_count": 9,
   "metadata": {},
   "outputs": [
    {
     "name": "stdout",
     "output_type": "stream",
     "text": [
      "[1812, 34, 1014, 2078, 2102, 588, 2081, 2080, 241, 1026]\n",
      "['Wide Awake (1998)', 'Babe (1995)', 'Pollyanna (1960)', 'Jungle Book, The (1967)', 'Steamboat Willie (1940)', 'Aladdin (1992)', 'Little Mermaid, The (1989)', 'Lady and the Tramp (1955)', 'Fluke (1995)', 'So Dear to My Heart (1949)']\n"
     ]
    }
   ],
   "source": [
    "# Get the corresponding movie ids and titles\n",
    "top_movie_ids = [movies.iloc[i]['movie_id'] for i in top_movie_indices]\n",
    "top_movie_titles = [movies.iloc[i]['title'] for i in top_movie_indices]\n",
    "\n",
    "print (top_movie_ids)\n",
    "print (top_movie_titles)"
   ]
  }
 ],
 "metadata": {
  "interpreter": {
   "hash": "aee8b7b246df8f9039afb4144a1f6fd8d2ca17a180786b69acc140d282b71a49"
  },
  "kernelspec": {
   "display_name": "Python 3.10.6 64-bit",
   "language": "python",
   "name": "python3"
  },
  "language_info": {
   "codemirror_mode": {
    "name": "ipython",
    "version": 3
   },
   "file_extension": ".py",
   "mimetype": "text/x-python",
   "name": "python",
   "nbconvert_exporter": "python",
   "pygments_lexer": "ipython3",
   "version": "3.10.6"
  },
  "orig_nbformat": 4
 },
 "nbformat": 4,
 "nbformat_minor": 2
}
