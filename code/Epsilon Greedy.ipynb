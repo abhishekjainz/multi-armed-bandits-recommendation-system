{
 "cells": [
  {
   "cell_type": "code",
   "execution_count": null,
   "metadata": {},
   "outputs": [],
   "source": [
    "import os\n",
    "import pandas as pd\n",
    "import random\n",
    "import matplotlib.pyplot as plt\n",
    "\n",
    "import warnings\n",
    "warnings.filterwarnings('ignore')\n",
    "pd.set_option('display.max_columns', None)\n",
    "random.seed(4014)"
   ]
  },
  {
   "cell_type": "code",
   "execution_count": null,
   "metadata": {},
   "outputs": [],
   "source": [
    "## define Bernoulli arm class\n",
    "class BernoulliArm():\n",
    "    def __init__(self, p):\n",
    "        self.p = p\n",
    "        \n",
    "    def draw(self):\n",
    "        if random.random()>self.p:\n",
    "            return 0.0\n",
    "        else:\n",
    "            return 1.0"
   ]
  },
  {
   "cell_type": "code",
   "execution_count": null,
   "metadata": {},
   "outputs": [],
   "source": [
    "class EpsilonGreedy():\n",
    "    \n",
    "    def __init__(self, epsilon, counts, values): \n",
    "        self.epsilon = epsilon\n",
    "        self.counts = counts\n",
    "        self.values = values\n",
    "        return \n",
    "    \n",
    "    def initialize(self, n_arms):\n",
    "        self.counts = [0 for item in range(n_arms)]\n",
    "        self.values = [0.0 for item in range(n_arms)]\n",
    "        return\n",
    "    \n",
    "    def select_arm(self):\n",
    "        if random.random()>self.epsilon:\n",
    "            m = max(self.values)\n",
    "            return self.values.index(m)\n",
    "        else:\n",
    "            return random.randrange(len(self.values))\n",
    "        \n",
    "    def update(self, chosen_arm, reward):\n",
    "        self.counts[chosen_arm] = self.counts[chosen_arm]+1\n",
    "        n = self.counts[chosen_arm]\n",
    "        value = self.values[chosen_arm]\n",
    "        new_value = ((n-1)/float(n))*value + (1/float(n))*reward\n",
    "        self.values[chosen_arm] = new_value\n",
    "        return"
   ]
  },
  {
   "cell_type": "code",
   "execution_count": null,
   "metadata": {},
   "outputs": [],
   "source": [
    "## implement test\n",
    "def test_algorithm(algo, arms, num_sims, horizon):\n",
    "    chosen_arms = [0 for i in range(num_sims*horizon)]\n",
    "    rewards = [0 for i in range(num_sims*horizon)]\n",
    "    cumulative_rewards = [0 for i in range(num_sims*horizon)]\n",
    "    sim_rouns = [0 for i in range(num_sims*horizon)]\n",
    "    time_steps = [0 for i in range(num_sims*horizon)]\n",
    "    \n",
    "    for sim in range(num_sims):\n",
    "        sim = sim + 1\n",
    "        algo.initialize(len(arms))\n",
    "        \n",
    "        for t in range(horizon):\n",
    "            t = t + 1\n",
    "            index = (sim-1)*horizon + t - 1\n",
    "            sim_rouns[index] = sim\n",
    "            time_steps[index] = t\n",
    "            \n",
    "            chosen_arm = algo.select_arm()\n",
    "            chosen_arms[index] = chosen_arm\n",
    "            reward = arms[chosen_arm].draw()\n",
    "            rewards[index] = reward\n",
    "            \n",
    "            if t == 1:\n",
    "               cumulative_rewards[index] = reward\n",
    "            else:\n",
    "               cumulative_rewards[index] = cumulative_rewards[index-1] + reward \n",
    "            \n",
    "            algo.update(chosen_arm, reward)\n",
    "    return(sim_rouns, time_steps, chosen_arms, rewards, cumulative_rewards)"
   ]
  }
 ],
 "metadata": {
  "language_info": {
   "name": "python"
  },
  "orig_nbformat": 4
 },
 "nbformat": 4,
 "nbformat_minor": 2
}
